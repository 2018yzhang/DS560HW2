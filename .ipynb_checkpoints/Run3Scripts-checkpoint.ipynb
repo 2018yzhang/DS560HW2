{
 "cells": [
  {
   "cell_type": "code",
   "execution_count": 9,
   "metadata": {},
   "outputs": [
    {
     "data": {
      "text/plain": [
       "0"
      ]
     },
     "execution_count": 9,
     "metadata": {},
     "output_type": "execute_result"
    }
   ],
   "source": [
    "import os\n",
    "import matplotlib.pyplot as plt\n",
    "import csv\n",
    "import seaborn as sns\n",
    "import pandas as pd\n",
    "\n",
    "#excute script1 to generate 1000 numbers randomly and save them in a.csv\n",
    "os.system('python GenerateNums.py')"
   ]
  },
  {
   "cell_type": "code",
   "execution_count": 10,
   "metadata": {},
   "outputs": [],
   "source": [
    "x = []\n",
    "with open('RandomNums.csv','r') as xFile:\n",
    "    xHeader = xFile.readline()\n",
    "    xList = csv.reader(xFile)\n",
    "    for row in xList:\n",
    "        x.append(int(row[0]))\n",
    "\n",
    "randomNumsDF = pd.DataFrame(x,columns =['RandomNums'])\n",
    "sns.distplot(randomNumsDF['RandomNums'])"
   ]
  },
  {
   "cell_type": "code",
   "execution_count": 5,
   "metadata": {},
   "outputs": [
    {
     "data": {
      "text/plain": [
       "0"
      ]
     },
     "execution_count": 5,
     "metadata": {},
     "output_type": "execute_result"
    }
   ],
   "source": [
    "#excute script2 to use the numbers from a.csv as Xs and generate Ys using equation y = 3x+6\n",
    "#save the result to b.csv\n",
    "os.system('python script2.py')"
   ]
  },
  {
   "cell_type": "code",
   "execution_count": null,
   "metadata": {},
   "outputs": [],
   "source": []
  },
  {
   "cell_type": "code",
   "execution_count": 6,
   "metadata": {},
   "outputs": [
    {
     "data": {
      "text/plain": [
       "0"
      ]
     },
     "execution_count": 6,
     "metadata": {},
     "output_type": "execute_result"
    }
   ],
   "source": [
    "#excute script3 to use the numbers from a.csv as Xs, use the numbers from b.csv as Ys, and create a visualization file\n",
    "os.system('python script3.py')"
   ]
  }
 ],
 "metadata": {
  "kernelspec": {
   "display_name": "Python 3",
   "language": "python",
   "name": "python3"
  },
  "language_info": {
   "codemirror_mode": {
    "name": "ipython",
    "version": 3
   },
   "file_extension": ".py",
   "mimetype": "text/x-python",
   "name": "python",
   "nbconvert_exporter": "python",
   "pygments_lexer": "ipython3",
   "version": "3.7.2"
  }
 },
 "nbformat": 4,
 "nbformat_minor": 2
}
